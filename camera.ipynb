{
 "cells": [
  {
   "cell_type": "code",
   "execution_count": 99,
   "id": "f772b9c3-d220-486b-bc7b-3f108a6b4645",
   "metadata": {},
   "outputs": [
    {
     "name": "stdout",
     "output_type": "stream",
     "text": [
      "acA1300-200um 23769231\n"
     ]
    }
   ],
   "source": [
    "import pypylon.pylon as py\n",
    "import numpy as np\n",
    "import cv2\n",
    "import time\n",
    "\n",
    "# this sample has been tested with a Basler acA1920-155uc\n",
    "# type 'q' or 'ESC' in the window to close it\n",
    "\n",
    "# the camera is configured to run at high framerate with only two lines hight\n",
    "# the acquired rows are concatenated as a virtual frame and this frame is displayed\n",
    "\n",
    "\n",
    "\n",
    "tlf = py.TlFactory.GetInstance()\n",
    "cameras = tlf.EnumerateDevices()\n",
    "for c in cameras:\n",
    "    print(c.GetModelName(), c.GetSerialNumber())\n",
    "    \n",
    "camera = py.InstantCamera(tlf.CreateDevice(cameras[0]))\n",
    "camera.Open()\n",
    "\n",
    "camera.PixelFormat.Value = \"Mono8\"\n",
    "camera.ExposureAuto.Value = \"Off\"\n",
    "camera.Gain.Value = 0\n",
    "\n",
    "max_exposure = 20000\n",
    "min_exposure = 100\n",
    "step_exposure = 10\n",
    "camera.ExposureTime.Value=100\n",
    "\n",
    "camera.AcquisitionFrameRateEnable.Value = False\n",
    "camera.AcquisitionFrameRate.Value = 100\n",
    "\n",
    "camera.StartGrabbing(py.GrabStrategy_LatestImageOnly)\n",
    "\n",
    "converter = py.ImageFormatConverter()\n",
    "converter.OutputPixelFormat = py.PixelType_Mono8\n",
    "converter.OutputBitAlignment = py.OutputBitAlignment_MsbAligned\n",
    "\n",
    "desired_fps = 160\n",
    "frame_duration = 1.0 / desired_fps\n",
    "\n",
    "try:\n",
    "    while camera.IsGrabbing():\n",
    "        loop_start = time.time()\n",
    "        grabResult = camera.RetrieveResult(5000, py.TimeoutHandling_ThrowException)\n",
    "        if grabResult.GrabSucceeded():\n",
    "            image = converter.Convert(grabResult)\n",
    "            frame = image.GetArray()\n",
    "            current_fps = camera.ResultingFrameRate.Value\n",
    "            fps_msg = f\"FPS: {current_fps:.2f}\"\n",
    "            fontScale = 1.5\n",
    "            thickness = 1\n",
    "            (fpsWidth, fpsHeight), _ = cv2.getTextSize(fps_msg, cv2.FONT_HERSHEY_SIMPLEX, fontScale, thickness)\n",
    "            rectFPS, posFPS = textBackground(fps_msg, fontScale, thickness, (5, 5))\n",
    "            cv2.rectangle(frame, rectFPS[0], rectFPS[1], color=(255, 255, 255), thickness=-1)\n",
    "            cv2.putText(frame, fps_msg, (5, textHeight+5), cv2.FONT_HERSHEY_SIMPLEX, fontScale, (0,0,0), thickness, lineType=cv2.LINE_AA)\n",
    "\n",
    "            exposure_msg = f'Exp: {camera.ExposureTime.Value:.2f}' \n",
    "            (exposureWidth, exposureHeight), _ = cv2.getTextSize(exposure_msg, cv2.FONT_HERSHEY_SIMPLEX, fontScale, thickness)\n",
    "            rectExposure, posExposure = textBackground(exposure_msg, fontScale, thickness, (5, fpsHeight+25))\n",
    "            cv2.rectangle(frame, rectExposure[0], rectExposure[1], color=(255, 255, 255), thickness=-1)\n",
    "            cv2.putText(frame, exposure_msg, (5, fpsHeight+exposureHeight+25), cv2.FONT_HERSHEY_SIMPLEX, fontScale, (0,0,0), thickness, lineType=cv2.LINE_AA)\n",
    "            \n",
    "            frame = cv2.resize(frame, (0, 0), fx = 0.5, fy = 0.5)\n",
    "\n",
    "            exposure = camera.ExposureTime.Value\n",
    "            if current_fps < desired_fps and exposure > min_exposure:\n",
    "                camera.ExposureTime.Value-=step_exposure\n",
    "            elif current_fps > desired_fps and exposure < max_exposure:\n",
    "                camera.ExposureTime.Value+=step_exposure\n",
    "            \n",
    "            cv2.imshow(\"Camera Feed\", frame)\n",
    "        \n",
    "        grabResult.Release()\n",
    "\n",
    "\n",
    "        if cv2.waitKey(1) & 0xFF in (ord('q'), 27):\n",
    "            break\n",
    "        \n",
    "        elapsed = time.time() - loop_start\n",
    "        time_to_wait = frame_duration - elapsed\n",
    "        if time_to_wait > 0:\n",
    "            time.sleep(time_to_wait)\n",
    "finally:\n",
    "    camera.StopGrabbing()\n",
    "    camera.Close()\n",
    "    cv2.destroyAllWindows()"
   ]
  },
  {
   "cell_type": "code",
   "execution_count": 83,
   "id": "568eb85b-2743-4a49-bb3d-e4b16334c4a9",
   "metadata": {},
   "outputs": [],
   "source": [
    "camera.Close()"
   ]
  },
  {
   "cell_type": "code",
   "execution_count": 66,
   "id": "f9fd5741-c91e-4309-8246-8d3d31028aaf",
   "metadata": {},
   "outputs": [],
   "source": [
    "def textBackground(text, fontScale, thickness, pos):\n",
    "    (textWidth, textHeight), baseline = cv2.getTextSize(str(text), cv2.FONT_HERSHEY_SIMPLEX, fontScale, thickness)\n",
    "    rect = [(pos[0], pos[1]), (pos[0] + textWidth, pos[1] + textHeight+baseline)]\n",
    "    textPos = (pos[0], pos[1] + textHeight + baseline // 2)\n",
    "    \n",
    "    return (rect, textPos)"
   ]
  },
  {
   "cell_type": "code",
   "execution_count": null,
   "id": "9ab85180-f988-4a6b-b3ee-06ff130387bf",
   "metadata": {},
   "outputs": [],
   "source": []
  },
  {
   "cell_type": "code",
   "execution_count": 95,
   "id": "8bb30b83-dacc-4a76-b513-2c08343a143d",
   "metadata": {},
   "outputs": [
    {
     "name": "stdout",
     "output_type": "stream",
     "text": [
      "acA1300-200um 23769231\n"
     ]
    }
   ],
   "source": [
    "tlf = py.TlFactory.GetInstance()\n",
    "cameras = tlf.EnumerateDevices()\n",
    "for c in cameras:\n",
    "    print(c.GetModelName(), c.GetSerialNumber())"
   ]
  },
  {
   "cell_type": "code",
   "execution_count": 96,
   "id": "d611df79-b6e2-467b-9813-c753cac54ef6",
   "metadata": {},
   "outputs": [
    {
     "data": {
      "text/plain": [
       "<pypylon.pylon.DeviceInfo; proxy of <Swig Object of type 'Pylon::CDeviceInfo *' at 0x000001AB1585AB80> >"
      ]
     },
     "execution_count": 96,
     "metadata": {},
     "output_type": "execute_result"
    }
   ],
   "source": [
    "cameras[0]"
   ]
  },
  {
   "cell_type": "code",
   "execution_count": 98,
   "id": "d49c730c-447a-42a2-986c-f3ee37b62949",
   "metadata": {},
   "outputs": [
    {
     "name": "stdout",
     "output_type": "stream",
     "text": [
      "<pypylon.pylon.DeviceInfo; proxy of <Swig Object of type 'Pylon::CDeviceInfo *' at 0x000001AB7F1BE970> >\n"
     ]
    }
   ],
   "source": [
    "tlf = py.TlFactory.GetInstance()\n",
    "cameras = tlf.EnumerateDevices()\n",
    "for c in cameras:\n",
    "    print(c)"
   ]
  }
 ],
 "metadata": {
  "kernelspec": {
   "display_name": "Python 3 (ipykernel)",
   "language": "python",
   "name": "python3"
  },
  "language_info": {
   "codemirror_mode": {
    "name": "ipython",
    "version": 3
   },
   "file_extension": ".py",
   "mimetype": "text/x-python",
   "name": "python",
   "nbconvert_exporter": "python",
   "pygments_lexer": "ipython3",
   "version": "3.13.2"
  }
 },
 "nbformat": 4,
 "nbformat_minor": 5
}
